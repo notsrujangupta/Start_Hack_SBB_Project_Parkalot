{
  "nbformat": 4,
  "nbformat_minor": 0,
  "metadata": {
    "colab": {
      "name": "hardware_location_identification_kmeans",
      "provenance": [],
      "collapsed_sections": [],
      "include_colab_link": true
    },
    "kernelspec": {
      "name": "python3",
      "display_name": "Python 3"
    },
    "language_info": {
      "name": "python"
    }
  },
  "cells": [
    {
      "cell_type": "markdown",
      "metadata": {
        "id": "view-in-github",
        "colab_type": "text"
      },
      "source": [
        "<a href=\"https://colab.research.google.com/github/notsrujangupta/Start_Hack_SBB_Project_Parkalot/blob/main/hardware_location_identification_kmeans.ipynb\" target=\"_parent\"><img src=\"https://colab.research.google.com/assets/colab-badge.svg\" alt=\"Open In Colab\"/></a>"
      ]
    },
    {
      "cell_type": "code",
      "metadata": {
        "id": "7LIFYIXbkyMi",
        "colab": {
          "base_uri": "https://localhost:8080/"
        },
        "outputId": "913439ce-f57b-4f17-82ef-1c25c6d741ac"
      },
      "source": [
        "import pandas as pd\n",
        "import numpy as np\n",
        "from scipy import stats\n",
        "from sklearn.preprocessing import StandardScaler\n",
        "from sklearn.datasets.samples_generator import make_blobs\n",
        "from sklearn.cluster import KMeans\n",
        "%matplotlib inline\n",
        "import matplotlib.pyplot as plt\n",
        "from sklearn.metrics import silhouette_samples,silhouette_score\n",
        "\n"
      ],
      "execution_count": null,
      "outputs": [
        {
          "output_type": "stream",
          "text": [
            "/usr/local/lib/python3.7/dist-packages/sklearn/utils/deprecation.py:144: FutureWarning: The sklearn.datasets.samples_generator module is  deprecated in version 0.22 and will be removed in version 0.24. The corresponding classes / functions should instead be imported from sklearn.datasets. Anything that cannot be imported from sklearn.datasets is now part of the private API.\n",
            "  warnings.warn(message, FutureWarning)\n"
          ],
          "name": "stderr"
        }
      ]
    },
    {
      "cell_type": "code",
      "metadata": {
        "colab": {
          "base_uri": "https://localhost:8080/"
        },
        "id": "gXbaBrDpk9-o",
        "outputId": "a6818d7b-1503-4e57-f27a-3e2c4adf0b54"
      },
      "source": [
        "df2 = pd.read_csv('passagierfrequenz.csv', sep =';')\n",
        "\n",
        "\n",
        "\n",
        "df = df2[[\"DTV\",\"DWV\",\"DNWV\", 'Bahnhof_Haltestelle']].copy()\n",
        "df= df.dropna(how='any', axis=0)\n",
        "\n",
        "\n",
        "print (df.head)\n",
        "print(df2.columns)\n",
        "\n",
        "def truncate(n):\n",
        "  return int(n * 100000000) / 100000000\n"
      ],
      "execution_count": null,
      "outputs": [
        {
          "output_type": "stream",
          "text": [
            "<bound method NDFrame.head of          DTV      DWV     DNWV Bahnhof_Haltestelle\n",
            "0     1700.0   2000.0   1000.0              Aadorf\n",
            "1    37900.0  44800.0  22700.0               Aarau\n",
            "2     2500.0   3000.0   1300.0   Aarburg-Oftringen\n",
            "3      740.0    800.0    610.0              Aathal\n",
            "4       90.0     90.0     80.0    Acla da Fontauna\n",
            "..       ...      ...      ...                 ...\n",
            "901  11600.0  13800.0   6500.0     Zürich Wiedikon\n",
            "902   2400.0   2700.0   1700.0    Zürich Wipkingen\n",
            "903   3400.0   3800.0   2600.0  Zürich Wollishofen\n",
            "904    100.0    110.0     70.0            Zweidlen\n",
            "905   2500.0   2900.0   1500.0             Zwingen\n",
            "\n",
            "[902 rows x 4 columns]>\n",
            "Index(['Code', 'Bahnhof_Haltestelle', 'Bezugsjahr', 'Kanton', 'Eigner', 'DTV',\n",
            "       'DWV', 'DNWV', 'Bemerkungen', 'Remarques', 'Note', 'Remarks', 'geopos',\n",
            "       'lod'],\n",
            "      dtype='object')\n"
          ],
          "name": "stdout"
        }
      ]
    },
    {
      "cell_type": "markdown",
      "metadata": {
        "id": "20mAl53Nyshi"
      },
      "source": [
        "Identifying Zscores for weekly, weekday and weekend traffic for each location.\n",
        "\n",
        "Goal is to check which locations are farthest and closest to the mean with standardd deviations. This will help identify a range of locations that fall within every type of traffic."
      ]
    },
    {
      "cell_type": "markdown",
      "metadata": {
        "id": "C7CibLH0i-ML"
      },
      "source": [
        "Normalising the data"
      ]
    },
    {
      "cell_type": "code",
      "metadata": {
        "id": "sgWJ7KOql1T-"
      },
      "source": [
        "#DTV\n",
        "dtv = df['DTV'].to_numpy()\n",
        "dtv = np.log(dtv)\n",
        "dtv = dtv.reshape(-1,1)\n",
        "\n",
        "scaler = StandardScaler()\n",
        "scaler.fit(dtv)\n",
        "dtv_SC = scaler.transform(dtv)\n",
        "dtv_SC = dtv_SC.flatten()\n",
        "\n",
        "dtv_SC = pd.Series(dtv_SC)\n",
        "\n",
        "for i in range(len(dtv_SC)):\n",
        "  dtv_SC[i]= truncate(dtv_SC[i])\n",
        "  \n",
        "df = df.assign(dtv_SC=dtv_SC)"
      ],
      "execution_count": null,
      "outputs": []
    },
    {
      "cell_type": "code",
      "metadata": {
        "id": "ABoq5HgF1Uv9"
      },
      "source": [
        "\n",
        "\n",
        "#DWV\n",
        "del scaler\n",
        "dwv=df['DWV'].to_numpy()\n",
        "dwv=np.log(dwv)\n",
        "dwv =dwv.reshape(-1,1)\n",
        "\n",
        "scaler = StandardScaler()\n",
        "scaler.fit(dwv)\n",
        "dwv_SC = scaler.transform(dwv)\n",
        "dwv_SC = dwv_SC.flatten()\n",
        "\n",
        "dwv_SC = pd.Series(dwv_SC)\n",
        "\n",
        "for i in range(len(dwv_SC)):\n",
        "  dwv_SC[i]= truncate(dwv_SC[i])\n",
        "df = df.assign(dwv_SC=dwv_SC)\n"
      ],
      "execution_count": null,
      "outputs": []
    },
    {
      "cell_type": "code",
      "metadata": {
        "id": "ba_NjuwgEukm",
        "colab": {
          "base_uri": "https://localhost:8080/"
        },
        "outputId": "2bccd3ca-66f4-4da7-dd75-9e8315039fea"
      },
      "source": [
        "\n",
        "#DNWV\n",
        "del scaler\n",
        "dnwv=df['DNWV'].to_numpy()\n",
        "dnwv=np.log(dnwv)\n",
        "dnwv = dnwv.reshape(-1,1)\n",
        "\n",
        "scaler= StandardScaler()\n",
        "scaler.fit(dnwv)\n",
        "dnwv_SC = scaler.transform(dnwv)\n",
        "dnwv_SC = dnwv_SC.flatten()\n",
        "\n",
        "dnwv_SC = pd.Series(dnwv_SC)\n",
        "\n",
        "for i in range(len(dnwv_SC)):\n",
        "  dnwv_SC[i]= truncate(dnwv_SC[i])\n",
        "df = df.assign(dnwv_SC=dnwv_SC)\n",
        "\n",
        "\n",
        "\n",
        "\n",
        "df= df.dropna(how='any', axis=0)\n",
        "print(np.where(pd.isnull(df)))\n",
        "\n",
        "\n",
        "\n",
        "\n",
        "dtv_stats = df['DTV'].describe()\n",
        "dwv_stats = df['DWV'].describe()\n",
        "dnwv_stats = df['DNWV'].describe()\n",
        "\n",
        "#print(dtv_stats.loc['mean'])\n",
        "\n",
        "#print(df.skew())"
      ],
      "execution_count": null,
      "outputs": [
        {
          "output_type": "stream",
          "text": [
            "(array([], dtype=int64), array([], dtype=int64))\n"
          ],
          "name": "stdout"
        }
      ]
    },
    {
      "cell_type": "markdown",
      "metadata": {
        "id": "Tut3Cukti472"
      },
      "source": [
        "Identifying optimal values for K"
      ]
    },
    {
      "cell_type": "code",
      "metadata": {
        "colab": {
          "base_uri": "https://localhost:8080/",
          "height": 295
        },
        "id": "b_GA06hx3266",
        "outputId": "e7056b2c-a404-41cb-e7e3-cffad476aa00"
      },
      "source": [
        "np.random.seed(42)\n",
        "\n",
        "Sum_of_squared_distances = []\n",
        "K = range(1,20)\n",
        "for k in K:\n",
        "    kmeans = KMeans(n_clusters=k)\n",
        "    y = kmeans.fit(df[['dtv_SC', 'dwv_SC', 'dnwv_SC']])\n",
        "    Sum_of_squared_distances.append(y.inertia_)\n",
        "\n",
        "plt.plot(K, Sum_of_squared_distances, 'bx-')\n",
        "plt.xlabel('k')\n",
        "plt.ylabel('Sum_of_squared_distances')\n",
        "plt.title('Elbow Method For Optimal k')\n",
        "plt.show()"
      ],
      "execution_count": null,
      "outputs": [
        {
          "output_type": "display_data",
          "data": {
            "image/png": "[encoded data removed]",
            "text/plain": [
              "<Figure size 432x288 with 1 Axes>"
            ]
          },
          "metadata": {
            "tags": [],
            "needs_background": "light"
          }
        }
      ]
    },
    {
      "cell_type": "markdown",
      "metadata": {
        "id": "nYuiNIDnjHUE"
      },
      "source": [
        "Performing the multivariate k emans test"
      ]
    },
    {
      "cell_type": "code",
      "metadata": {
        "id": "p6GD2jdJF0Ut",
        "colab": {
          "base_uri": "https://localhost:8080/",
          "height": 452
        },
        "outputId": "2e3ea5ce-a4e4-4e94-d500-32f44bdb1cff"
      },
      "source": [
        "X, _ = make_blobs(n_samples=len(df), centers=10, n_features=3)\n",
        "\n",
        "num_clusters = 5\n",
        "km = KMeans(n_clusters=num_clusters)\n",
        "\n",
        "##Getting the cluster for each point\n",
        "y = km.fit_predict(df[['dtv_SC', 'dwv_SC', 'dnwv_SC']])\n",
        "\n",
        "##getting the sqaured distance of each point to each centroid\n",
        "X_dist = km.transform(df[['dtv_SC', 'dwv_SC', 'dnwv_SC']])**2 \n",
        "\n",
        "##getting coordinates of each centroid\n",
        "centroids = km.cluster_centers_ \n",
        "\n",
        "df['Cluster'] = y\n",
        "\n",
        "dist_to_cluster_centroid = []\n",
        "\n",
        "for i in range(len(X_dist)):\n",
        "  dist_to_cluster_centroid.append(min(X_dist[i]))\n",
        "\n",
        "df['Dist_To_Cluster_Centroid'] = dist_to_cluster_centroid\n",
        "\n",
        "plt.scatter(X[:, 0], X[:, 1], c=y, s=50, cmap='viridis')\n",
        "\n",
        "centers = km.cluster_centers_\n",
        "plt.scatter(centers[:, 0], centers[:, 1], c='black', s=200, alpha=0.5);\n",
        "\n",
        "print(X_dist[1])\n",
        "print(df['Cluster'][1])\n",
        "print(df['Dist_To_Cluster_Centroid'][1])\n",
        "print(df.head())"
      ],
      "execution_count": null,
      "outputs": [
        {
          "output_type": "stream",
          "text": [
            "[42.22883737  6.35848787 15.75410722 26.9718401   0.24402513]\n",
            "4\n",
            "0.2440251267269815\n",
            "       DTV      DWV     DNWV  ...   dnwv_SC  Cluster  Dist_To_Cluster_Centroid\n",
            "0   1700.0   2000.0   1000.0  ...  0.436398        2                  0.375407\n",
            "1  37900.0  44800.0  22700.0  ...  2.431423        4                  0.244025\n",
            "2   2500.0   3000.0   1300.0  ...  0.604035        1                  0.229331\n",
            "3    740.0    800.0    610.0  ...  0.120570        2                  0.057100\n",
            "4     90.0     90.0     80.0  ... -1.177407        0                  0.007092\n",
            "\n",
            "[5 rows x 9 columns]\n"
          ],
          "name": "stdout"
        },
        {
          "output_type": "display_data",
          "data": {
            "image/png": "[encoded data removed]",
            "text/plain": [
              "<Figure size 432x288 with 1 Axes>"
            ]
          },
          "metadata": {
            "tags": [],
            "needs_background": "light"
          }
        }
      ]
    },
    {
      "cell_type": "markdown",
      "metadata": {
        "id": "ryUJeD4aqcoB"
      },
      "source": [
        "Finding the closest point(s) to each Centroid"
      ]
    },
    {
      "cell_type": "code",
      "metadata": {
        "id": "DR-dtyWOqbrQ",
        "colab": {
          "base_uri": "https://localhost:8080/"
        },
        "outputId": "44bf975a-0104-425e-cd77-583eb547944e"
      },
      "source": [
        "num_of_closest_points = round(50/num_clusters)\n",
        "closest_points=[]\n",
        "for i in range(num_clusters):\n",
        "  temp_df = df[df['Cluster']==i]\n",
        "  temp_df = temp_df.sort_values('Dist_To_Cluster_Centroid', axis= 0, ascending = True)\n",
        "\n",
        "\n",
        "\n",
        "  ##print(temp_df[0: num_of_closest_points])\n",
        "  closest_points.append(temp_df[0: num_of_closest_points])\n",
        "\n",
        "\n",
        "list_of_stations =[]    \n",
        "for s in range(len(closest_points)):\n",
        "  n=closest_points[s]['Bahnhof_Haltestelle']\n",
        "  list_of_stations.append(n)\n",
        "print(list_of_stations)\n",
        "\n",
        "\n",
        "  \n"
      ],
      "execution_count": null,
      "outputs": [
        {
          "output_type": "stream",
          "text": [
            "[636          Ringgenberg\n",
            "423                Lavin\n",
            "158    Cinuos-chel-Brail\n",
            "155           Chur Stadt\n",
            "4       Acla da Fontauna\n",
            "500           Mogelsberg\n",
            "102          Brienz West\n",
            "301            Gluringen\n",
            "214            Dompierre\n",
            "792               Thusis\n",
            "Name: Bahnhof_Haltestelle, dtype: object, 274    Frenkendorf-Füllinsdorf\n",
            "268                     Flawil\n",
            "296                Glanzenberg\n",
            "499                    Mitlödi\n",
            "235         Emmenbrücke Gersag\n",
            "328                  Heerbrugg\n",
            "337            Herzogenbuchsee\n",
            "336      Herrliberg-Feldmeilen\n",
            "899         Zürich Stadelhofen\n",
            "511                      Mosen\n",
            "Name: Bahnhof_Haltestelle, dtype: object, 845    Walterswil-Striegel\n",
            "85      Bischofszell Stadt\n",
            "49              Bassecourt\n",
            "122             Burghalden\n",
            "359         Interlaken Ost\n",
            "634               Rietheim\n",
            "300              Glovelier\n",
            "549             Niederried\n",
            "188           Dagmersellen\n",
            "551         Niederweningen\n",
            "Name: Bahnhof_Haltestelle, dtype: object, 58           Benken\n",
            "637           Rivaz\n",
            "497            Mies\n",
            "854    Wiesendangen\n",
            "799            Trun\n",
            "610           Raron\n",
            "795         Travers\n",
            "488        Mellikon\n",
            "98           Boudry\n",
            "791            Thun\n",
            "Name: Bahnhof_Haltestelle, dtype: object, 434              Lengwil\n",
            "809          Unterterzen\n",
            "848              Wattwil\n",
            "533              Nebikon\n",
            "821             Vernayaz\n",
            "606      Rämismühle-Zell\n",
            "275    Fribourg/Freiburg\n",
            "765          Steinerberg\n",
            "208             Dietikon\n",
            "108             Brugg AG\n",
            "Name: Bahnhof_Haltestelle, dtype: object]\n"
          ],
          "name": "stdout"
        }
      ]
    }
  ]
}
