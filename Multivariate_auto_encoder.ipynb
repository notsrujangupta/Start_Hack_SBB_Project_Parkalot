{
  "nbformat": 4,
  "nbformat_minor": 0,
  "metadata": {
    "colab": {
      "name": "Multivariate auto encoder",
      "provenance": [],
      "collapsed_sections": [],
      "authorship_tag": "ABX9TyP8Ww5IvYHiiwhW/bf7SNPZ",
      "include_colab_link": true
    },
    "kernelspec": {
      "name": "python3",
      "display_name": "Python 3"
    },
    "language_info": {
      "name": "python"
    }
  },
  "cells": [
    {
      "cell_type": "markdown",
      "metadata": {
        "id": "view-in-github",
        "colab_type": "text"
      },
      "source": [
        "<a href=\"https://colab.research.google.com/github/notsrujangupta/Start_Hack_SBB_Project_Parkalot/blob/main/Multivariate_auto_encoder.ipynb\" target=\"_parent\"><img src=\"https://colab.research.google.com/assets/colab-badge.svg\" alt=\"Open In Colab\"/></a>"
      ]
    },
    {
      "cell_type": "code",
      "metadata": {
        "id": "Pij4VRIrzDj0"
      },
      "source": [
        "import pandas as pd\n",
        "import numpy as np\n",
        "from sklearn.preprocessing import MinMaxScaler\n",
        "import matplotlib.pyplot as plt\n",
        "import tensorflow as tf\n",
        "import os"
      ],
      "execution_count": 1,
      "outputs": []
    },
    {
      "cell_type": "code",
      "metadata": {
        "colab": {
          "base_uri": "https://localhost:8080/"
        },
        "id": "iK1hy1zQ1ZLf",
        "outputId": "33308846-d537-41ff-fa98-264c959a1b15"
      },
      "source": [
        "df = pd.read_csv('model_dataset.csv')\n",
        "print(df.head)\n",
        "\n",
        "test_amount = int(0.70 * len(df))\n",
        "print(test_amount)\n",
        "\n",
        "train_df,test_df = df[:test_amount], df[test_amount:] "
      ],
      "execution_count": 2,
      "outputs": [
        {
          "output_type": "stream",
          "text": [
            "<bound method NDFrame.head of           DateTime  Temperature per Hour  ...  Sales  Spots\n",
            "0     1.609439e+09                   0.8  ...     42      1\n",
            "1     1.609443e+09                   1.1  ...     42      1\n",
            "2     1.609447e+09                   1.1  ...     42      1\n",
            "3     1.609450e+09                   1.2  ...     42      1\n",
            "4     1.609454e+09                   1.3  ...     42      1\n",
            "...            ...                   ...  ...    ...    ...\n",
            "1411  1.614519e+09                   9.4  ...     42     16\n",
            "1412  1.614523e+09                   8.9  ...     42     14\n",
            "1413  1.614526e+09                   8.8  ...     42     12\n",
            "1414  1.614530e+09                   6.9  ...     42     13\n",
            "1415  1.614533e+09                   5.2  ...     42     12\n",
            "\n",
            "[1416 rows x 6 columns]>\n",
            "991\n"
          ],
          "name": "stdout"
        }
      ]
    },
    {
      "cell_type": "code",
      "metadata": {
        "colab": {
          "base_uri": "https://localhost:8080/"
        },
        "id": "nqD3M40-2wvZ",
        "outputId": "60621614-7bec-46b2-a1af-29680b8b89a1"
      },
      "source": [
        "train = train_df\n",
        "scalers={}\n",
        "for i in train_df.columns:\n",
        "    scaler = MinMaxScaler(feature_range=(-1,1))\n",
        "    s_s = scaler.fit_transform(train[i].values.reshape(-1,1))\n",
        "    s_s=np.reshape(s_s,len(s_s))\n",
        "    scalers['scaler_'+ i] = scaler\n",
        "    train[i]=s_s\n",
        "test = test_df\n",
        "for i in train_df.columns:\n",
        "    scaler = scalers['scaler_'+i]\n",
        "    s_s = scaler.transform(test[i].values.reshape(-1,1))\n",
        "    s_s=np.reshape(s_s,len(s_s))\n",
        "    scalers['scaler_'+i] = scaler\n",
        "    test[i]=s_s"
      ],
      "execution_count": 3,
      "outputs": [
        {
          "output_type": "stream",
          "text": [
            "/usr/local/lib/python3.7/dist-packages/ipykernel_launcher.py:8: SettingWithCopyWarning: \n",
            "A value is trying to be set on a copy of a slice from a DataFrame.\n",
            "Try using .loc[row_indexer,col_indexer] = value instead\n",
            "\n",
            "See the caveats in the documentation: https://pandas.pydata.org/pandas-docs/stable/user_guide/indexing.html#returning-a-view-versus-a-copy\n",
            "  \n",
            "/usr/local/lib/python3.7/dist-packages/ipykernel_launcher.py:8: SettingWithCopyWarning: \n",
            "A value is trying to be set on a copy of a slice from a DataFrame.\n",
            "Try using .loc[row_indexer,col_indexer] = value instead\n",
            "\n",
            "See the caveats in the documentation: https://pandas.pydata.org/pandas-docs/stable/user_guide/indexing.html#returning-a-view-versus-a-copy\n",
            "  \n",
            "/usr/local/lib/python3.7/dist-packages/ipykernel_launcher.py:8: SettingWithCopyWarning: \n",
            "A value is trying to be set on a copy of a slice from a DataFrame.\n",
            "Try using .loc[row_indexer,col_indexer] = value instead\n",
            "\n",
            "See the caveats in the documentation: https://pandas.pydata.org/pandas-docs/stable/user_guide/indexing.html#returning-a-view-versus-a-copy\n",
            "  \n",
            "/usr/local/lib/python3.7/dist-packages/ipykernel_launcher.py:8: SettingWithCopyWarning: \n",
            "A value is trying to be set on a copy of a slice from a DataFrame.\n",
            "Try using .loc[row_indexer,col_indexer] = value instead\n",
            "\n",
            "See the caveats in the documentation: https://pandas.pydata.org/pandas-docs/stable/user_guide/indexing.html#returning-a-view-versus-a-copy\n",
            "  \n",
            "/usr/local/lib/python3.7/dist-packages/ipykernel_launcher.py:8: SettingWithCopyWarning: \n",
            "A value is trying to be set on a copy of a slice from a DataFrame.\n",
            "Try using .loc[row_indexer,col_indexer] = value instead\n",
            "\n",
            "See the caveats in the documentation: https://pandas.pydata.org/pandas-docs/stable/user_guide/indexing.html#returning-a-view-versus-a-copy\n",
            "  \n",
            "/usr/local/lib/python3.7/dist-packages/ipykernel_launcher.py:8: SettingWithCopyWarning: \n",
            "A value is trying to be set on a copy of a slice from a DataFrame.\n",
            "Try using .loc[row_indexer,col_indexer] = value instead\n",
            "\n",
            "See the caveats in the documentation: https://pandas.pydata.org/pandas-docs/stable/user_guide/indexing.html#returning-a-view-versus-a-copy\n",
            "  \n",
            "/usr/local/lib/python3.7/dist-packages/ipykernel_launcher.py:15: SettingWithCopyWarning: \n",
            "A value is trying to be set on a copy of a slice from a DataFrame.\n",
            "Try using .loc[row_indexer,col_indexer] = value instead\n",
            "\n",
            "See the caveats in the documentation: https://pandas.pydata.org/pandas-docs/stable/user_guide/indexing.html#returning-a-view-versus-a-copy\n",
            "  from ipykernel import kernelapp as app\n",
            "/usr/local/lib/python3.7/dist-packages/ipykernel_launcher.py:15: SettingWithCopyWarning: \n",
            "A value is trying to be set on a copy of a slice from a DataFrame.\n",
            "Try using .loc[row_indexer,col_indexer] = value instead\n",
            "\n",
            "See the caveats in the documentation: https://pandas.pydata.org/pandas-docs/stable/user_guide/indexing.html#returning-a-view-versus-a-copy\n",
            "  from ipykernel import kernelapp as app\n",
            "/usr/local/lib/python3.7/dist-packages/ipykernel_launcher.py:15: SettingWithCopyWarning: \n",
            "A value is trying to be set on a copy of a slice from a DataFrame.\n",
            "Try using .loc[row_indexer,col_indexer] = value instead\n",
            "\n",
            "See the caveats in the documentation: https://pandas.pydata.org/pandas-docs/stable/user_guide/indexing.html#returning-a-view-versus-a-copy\n",
            "  from ipykernel import kernelapp as app\n",
            "/usr/local/lib/python3.7/dist-packages/ipykernel_launcher.py:15: SettingWithCopyWarning: \n",
            "A value is trying to be set on a copy of a slice from a DataFrame.\n",
            "Try using .loc[row_indexer,col_indexer] = value instead\n",
            "\n",
            "See the caveats in the documentation: https://pandas.pydata.org/pandas-docs/stable/user_guide/indexing.html#returning-a-view-versus-a-copy\n",
            "  from ipykernel import kernelapp as app\n",
            "/usr/local/lib/python3.7/dist-packages/ipykernel_launcher.py:15: SettingWithCopyWarning: \n",
            "A value is trying to be set on a copy of a slice from a DataFrame.\n",
            "Try using .loc[row_indexer,col_indexer] = value instead\n",
            "\n",
            "See the caveats in the documentation: https://pandas.pydata.org/pandas-docs/stable/user_guide/indexing.html#returning-a-view-versus-a-copy\n",
            "  from ipykernel import kernelapp as app\n",
            "/usr/local/lib/python3.7/dist-packages/ipykernel_launcher.py:15: SettingWithCopyWarning: \n",
            "A value is trying to be set on a copy of a slice from a DataFrame.\n",
            "Try using .loc[row_indexer,col_indexer] = value instead\n",
            "\n",
            "See the caveats in the documentation: https://pandas.pydata.org/pandas-docs/stable/user_guide/indexing.html#returning-a-view-versus-a-copy\n",
            "  from ipykernel import kernelapp as app\n"
          ],
          "name": "stderr"
        }
      ]
    },
    {
      "cell_type": "code",
      "metadata": {
        "id": "WVLD_WVs3LAz"
      },
      "source": [
        "def split_series(series, n_past, n_future):\n",
        "  #\n",
        "  # n_past ==> no of past observations\n",
        "  #\n",
        "  # n_future ==> no of future observations \n",
        "  #\n",
        "  X, y = list(), list()\n",
        "  for window_start in range(len(series)):\n",
        "    past_end = window_start + n_past\n",
        "    future_end = past_end + n_future\n",
        "    if future_end > len(series):\n",
        "      break\n",
        "    # slicing the past and future parts of the window\n",
        "    past, future = series[window_start:past_end, :], series[past_end:future_end, :]\n",
        "    X.append(past)\n",
        "    y.append(future)\n",
        "  return np.array(X), np.array(y)"
      ],
      "execution_count": 4,
      "outputs": []
    },
    {
      "cell_type": "code",
      "metadata": {
        "id": "z_xv3qu032yu"
      },
      "source": [
        "n_past = 100 #hours\n",
        "n_future = 48 #hours\n",
        "n_features = 6"
      ],
      "execution_count": 5,
      "outputs": []
    },
    {
      "cell_type": "code",
      "metadata": {
        "id": "7cMPYiIn4O9n"
      },
      "source": [
        "X_train, y_train = split_series(train.values,n_past, n_future)\n",
        "X_train = X_train.reshape((X_train.shape[0], X_train.shape[1],n_features))\n",
        "y_train = y_train.reshape((y_train.shape[0], y_train.shape[1], n_features))\n",
        "X_test, y_test = split_series(test.values,n_past, n_future)\n",
        "X_test = X_test.reshape((X_test.shape[0], X_test.shape[1],n_features))\n",
        "y_test = y_test.reshape((y_test.shape[0], y_test.shape[1], n_features))"
      ],
      "execution_count": 6,
      "outputs": []
    },
    {
      "cell_type": "code",
      "metadata": {
        "colab": {
          "base_uri": "https://localhost:8080/"
        },
        "id": "9n1LPhpQ8Zxh",
        "outputId": "81ef29a9-09ab-403c-b6d5-31849bb3e88c"
      },
      "source": [
        "# E1D1\n",
        "# n_features ==> no of features at each timestep in the data.\n",
        "#\n",
        "encoder_inputs = tf.keras.layers.Input(shape=(n_past, n_features))\n",
        "encoder_l1 = tf.keras.layers.LSTM(50, return_state=True)\n",
        "encoder_outputs1 = encoder_l1(encoder_inputs)\n",
        "\n",
        "encoder_states1 = encoder_outputs1[1:]\n",
        "\n",
        "#\n",
        "decoder_inputs = tf.keras.layers.RepeatVector(n_future)(encoder_outputs1[0])\n",
        "\n",
        "#\n",
        "decoder_l1 = tf.keras.layers.LSTM(50, return_sequences=True)(decoder_inputs,initial_state = encoder_states1)\n",
        "decoder_outputs1 = tf.keras.layers.TimeDistributed(tf.keras.layers.Dense(n_features))(decoder_l1)\n",
        "\n",
        "#\n",
        "model_e1d1 = tf.keras.models.Model(encoder_inputs,decoder_outputs1)\n",
        "\n",
        "#\n",
        "model_e1d1.summary()"
      ],
      "execution_count": 7,
      "outputs": [
        {
          "output_type": "stream",
          "text": [
            "Model: \"model\"\n",
            "__________________________________________________________________________________________________\n",
            "Layer (type)                    Output Shape         Param #     Connected to                     \n",
            "==================================================================================================\n",
            "input_1 (InputLayer)            [(None, 100, 6)]     0                                            \n",
            "__________________________________________________________________________________________________\n",
            "lstm (LSTM)                     [(None, 50), (None,  11400       input_1[0][0]                    \n",
            "__________________________________________________________________________________________________\n",
            "repeat_vector (RepeatVector)    (None, 48, 50)       0           lstm[0][0]                       \n",
            "__________________________________________________________________________________________________\n",
            "lstm_1 (LSTM)                   (None, 48, 50)       20200       repeat_vector[0][0]              \n",
            "                                                                 lstm[0][1]                       \n",
            "                                                                 lstm[0][2]                       \n",
            "__________________________________________________________________________________________________\n",
            "time_distributed (TimeDistribut (None, 48, 6)        306         lstm_1[0][0]                     \n",
            "==================================================================================================\n",
            "Total params: 31,906\n",
            "Trainable params: 31,906\n",
            "Non-trainable params: 0\n",
            "__________________________________________________________________________________________________\n"
          ],
          "name": "stdout"
        }
      ]
    },
    {
      "cell_type": "code",
      "metadata": {
        "colab": {
          "base_uri": "https://localhost:8080/"
        },
        "id": "tazBZJEQ8ln1",
        "outputId": "91fd80d8-a9ee-491d-e09d-845911364e6e"
      },
      "source": [
        "# E2D2\n",
        "# n_features ==> no of features at each timestep in the data.\n",
        "#\n",
        "encoder_inputs = tf.keras.layers.Input(shape=(n_past, n_features))\n",
        "encoder_l1 = tf.keras.layers.LSTM(50,return_sequences = True, return_state=True)\n",
        "encoder_outputs1 = encoder_l1(encoder_inputs)\n",
        "encoder_states1 = encoder_outputs1[1:]\n",
        "encoder_l2 = tf.keras.layers.LSTM(50, return_state=True)\n",
        "encoder_outputs2 = encoder_l2(encoder_outputs1[0])\n",
        "encoder_states2 = encoder_outputs2[1:]\n",
        "#\n",
        "decoder_inputs = tf.keras.layers.RepeatVector(n_future)(encoder_outputs2[0])\n",
        "#\n",
        "decoder_l1 = tf.keras.layers.LSTM(50, return_sequences=True)(decoder_inputs,initial_state = encoder_states1)\n",
        "decoder_l2 = tf.keras.layers.LSTM(50, return_sequences=True)(decoder_l1,initial_state = encoder_states2)\n",
        "decoder_outputs2 = tf.keras.layers.TimeDistributed(tf.keras.layers.Dense(n_features))(decoder_l2)\n",
        "#\n",
        "model_e2d2 = tf.keras.models.Model(encoder_inputs,decoder_outputs2)\n",
        "#\n",
        "model_e2d2.summary()"
      ],
      "execution_count": 8,
      "outputs": [
        {
          "output_type": "stream",
          "text": [
            "Model: \"model_1\"\n",
            "__________________________________________________________________________________________________\n",
            "Layer (type)                    Output Shape         Param #     Connected to                     \n",
            "==================================================================================================\n",
            "input_2 (InputLayer)            [(None, 100, 6)]     0                                            \n",
            "__________________________________________________________________________________________________\n",
            "lstm_2 (LSTM)                   [(None, 100, 50), (N 11400       input_2[0][0]                    \n",
            "__________________________________________________________________________________________________\n",
            "lstm_3 (LSTM)                   [(None, 50), (None,  20200       lstm_2[0][0]                     \n",
            "__________________________________________________________________________________________________\n",
            "repeat_vector_1 (RepeatVector)  (None, 48, 50)       0           lstm_3[0][0]                     \n",
            "__________________________________________________________________________________________________\n",
            "lstm_4 (LSTM)                   (None, 48, 50)       20200       repeat_vector_1[0][0]            \n",
            "                                                                 lstm_2[0][1]                     \n",
            "                                                                 lstm_2[0][2]                     \n",
            "__________________________________________________________________________________________________\n",
            "lstm_5 (LSTM)                   (None, 48, 50)       20200       lstm_4[0][0]                     \n",
            "                                                                 lstm_3[0][1]                     \n",
            "                                                                 lstm_3[0][2]                     \n",
            "__________________________________________________________________________________________________\n",
            "time_distributed_1 (TimeDistrib (None, 48, 6)        306         lstm_5[0][0]                     \n",
            "==================================================================================================\n",
            "Total params: 72,306\n",
            "Trainable params: 72,306\n",
            "Non-trainable params: 0\n",
            "__________________________________________________________________________________________________\n"
          ],
          "name": "stdout"
        }
      ]
    },
    {
      "cell_type": "code",
      "metadata": {
        "id": "YFZ7H_Hi8qq3"
      },
      "source": [
        "reduce_lr = tf.keras.callbacks.LearningRateScheduler(lambda x: 1e-3 * 0.90 ** x)\n",
        "model_e1d1.compile(optimizer=tf.keras.optimizers.Adam(), loss=tf.keras.losses.Huber())\n",
        "history_e1d1=model_e1d1.fit(X_train,y_train,epochs=25,validation_data=(X_test,y_test),batch_size=5,verbose=0,callbacks=[reduce_lr])\n",
        "model_e2d2.compile(optimizer=tf.keras.optimizers.Adam(), loss=tf.keras.losses.Huber())\n",
        "history_e2d2=model_e2d2.fit(X_train,y_train,epochs=25,validation_data=(X_test,y_test),batch_size=5,verbose=0,callbacks=[reduce_lr])"
      ],
      "execution_count": 9,
      "outputs": []
    },
    {
      "cell_type": "code",
      "metadata": {
        "colab": {
          "base_uri": "https://localhost:8080/",
          "height": 295
        },
        "id": "HfGh4319-Zs3",
        "outputId": "9feefe52-a8a0-4147-e39e-6fa6f48deb09"
      },
      "source": [
        "plt.plot(history_e1d1.history['loss'])\n",
        "plt.plot(history_e1d1.history['val_loss'])\n",
        "plt.title(\"E1D1 Model Loss\")\n",
        "plt.xlabel('Epochs')\n",
        "plt.ylabel('Loss')\n",
        "plt.legend(['Train', 'Valid'])\n",
        "plt.show()"
      ],
      "execution_count": 10,
      "outputs": [
        {
          "output_type": "display_data",
          "data": {
            "image/png": "[encoded data removed]",
            "text/plain": [
              "<Figure size 432x288 with 1 Axes>"
            ]
          },
          "metadata": {
            "tags": [],
            "needs_background": "light"
          }
        }
      ]
    },
    {
      "cell_type": "code",
      "metadata": {
        "colab": {
          "base_uri": "https://localhost:8080/",
          "height": 295
        },
        "id": "TVBfv0S4-fO7",
        "outputId": "cf01cc1d-84ff-48ea-c5ed-b96efdfb5ba1"
      },
      "source": [
        "plt.plot(history_e2d2.history['loss'])\n",
        "plt.plot(history_e2d2.history['val_loss'])\n",
        "plt.title(\"E2D2 Model Loss\")\n",
        "plt.xlabel('Epochs')\n",
        "plt.ylabel('Loss')\n",
        "plt.legend(['Train', 'Valid'])\n",
        "plt.show()"
      ],
      "execution_count": 11,
      "outputs": [
        {
          "output_type": "display_data",
          "data": {
            "image/png": "[encoded data removed]",
            "text/plain": [
              "<Figure size 432x288 with 1 Axes>"
            ]
          },
          "metadata": {
            "tags": [],
            "needs_background": "light"
          }
        }
      ]
    },
    {
      "cell_type": "code",
      "metadata": {
        "id": "rYgNdY489D9P"
      },
      "source": [
        "pred1_e1d1=model_e1d1.predict(X_test)\n",
        "pred1_e2d2=model_e2d2.predict(X_test)\n",
        "\n",
        "pred_e1d1=model_e1d1.predict(X_train)\n",
        "pred_e2d2=model_e2d2.predict(X_train)"
      ],
      "execution_count": 12,
      "outputs": []
    },
    {
      "cell_type": "code",
      "metadata": {
        "id": "qoAdnvIM9ElV"
      },
      "source": [
        "for index,i in enumerate(train_df.columns):\n",
        "    scaler = scalers['scaler_'+i]\n",
        "    pred1_e1d1[:,:,index]=scaler.inverse_transform(pred1_e1d1[:,:,index])\n",
        "    pred_e1d1[:,:,index]=scaler.inverse_transform(pred_e1d1[:,:,index])\n",
        "    \n",
        "    pred1_e2d2[:,:,index]=scaler.inverse_transform(pred1_e2d2[:,:,index])\n",
        "    pred_e2d2[:,:,index]=scaler.inverse_transform(pred_e2d2[:,:,index])\n",
        "    \n",
        "    y_train[:,:,index]=scaler.inverse_transform(y_train[:,:,index])\n",
        "    y_test[:,:,index]=scaler.inverse_transform(y_test[:,:,index])"
      ],
      "execution_count": 13,
      "outputs": []
    },
    {
      "cell_type": "code",
      "metadata": {
        "colab": {
          "base_uri": "https://localhost:8080/",
          "height": 1000
        },
        "id": "-QxJyvqj9IYl",
        "outputId": "abf02b19-fbbe-4932-f13a-fa91cddf101b"
      },
      "source": [
        "from sklearn.metrics import mean_absolute_error\n",
        " \n",
        "for index,i in enumerate(train_df.columns):\n",
        "  print(i)\n",
        "  for j in range(1,72):\n",
        "    print(\"hour \",j,\":\")\n",
        "    print(\"MAE-E1D1 : \",mean_absolute_error(y_test[:,j-1,index],pred1_e1d1[:,j-1,index]),end=\", \")\n",
        "    print(\"MAE-E2D2 : \",mean_absolute_error(y_test[:,j-1,index],pred1_e2d2[:,j-1,index]))\n",
        "  print()\n",
        "  print()\n",
        "  "
      ],
      "execution_count": 14,
      "outputs": [
        {
          "output_type": "stream",
          "text": [
            "DateTime\n",
            "hour  1 :\n",
            "MAE-E1D1 :  639363.2230215827, MAE-E2D2 :  1321741.3525179855\n",
            "hour  2 :\n",
            "MAE-E1D1 :  477031.02158273384, MAE-E2D2 :  1311687.251798561\n",
            "hour  3 :\n",
            "MAE-E1D1 :  434033.035971223, MAE-E2D2 :  1307549.6978417267\n",
            "hour  4 :\n",
            "MAE-E1D1 :  442462.0431654676, MAE-E2D2 :  1299169.2661870504\n",
            "hour  5 :\n",
            "MAE-E1D1 :  464167.59712230216, MAE-E2D2 :  1293561.09352518\n",
            "hour  6 :\n",
            "MAE-E1D1 :  486569.3237410072, MAE-E2D2 :  1293167.309352518\n",
            "hour  7 :\n",
            "MAE-E1D1 :  507672.1726618705, MAE-E2D2 :  1297186.3021582733\n",
            "hour  8 :\n",
            "MAE-E1D1 :  527497.3237410072, MAE-E2D2 :  1303421.3525179855\n",
            "hour  9 :\n",
            "MAE-E1D1 :  545659.8561151079, MAE-E2D2 :  1310171.165467626\n",
            "hour  10 :\n",
            "MAE-E1D1 :  561440.5755395683, MAE-E2D2 :  1316990.964028777\n",
            "hour  11 :\n",
            "MAE-E1D1 :  574343.1366906475, MAE-E2D2 :  1323902.3884892086\n",
            "hour  12 :\n",
            "MAE-E1D1 :  584329.3237410072, MAE-E2D2 :  1330171.0503597122\n",
            "hour  13 :\n",
            "MAE-E1D1 :  591637.6402877698, MAE-E2D2 :  1334006.330935252\n",
            "hour  14 :\n",
            "MAE-E1D1 :  596603.7410071943, MAE-E2D2 :  1334382.8489208634\n",
            "hour  15 :\n",
            "MAE-E1D1 :  599513.0935251799, MAE-E2D2 :  1332109.582733813\n",
            "hour  16 :\n",
            "MAE-E1D1 :  600569.6690647482, MAE-E2D2 :  1328069.6402877697\n",
            "hour  17 :\n",
            "MAE-E1D1 :  600028.0863309352, MAE-E2D2 :  1322294.330935252\n",
            "hour  18 :\n",
            "MAE-E1D1 :  598319.7697841726, MAE-E2D2 :  1314657.9568345323\n",
            "hour  19 :\n",
            "MAE-E1D1 :  596126.1582733813, MAE-E2D2 :  1306071.7122302158\n",
            "hour  20 :\n",
            "MAE-E1D1 :  594135.1366906475, MAE-E2D2 :  1299307.3956834532\n",
            "hour  21 :\n",
            "MAE-E1D1 :  592964.1438848921, MAE-E2D2 :  1297419.0503597122\n",
            "hour  22 :\n",
            "MAE-E1D1 :  593167.0791366906, MAE-E2D2 :  1301320.1726618705\n",
            "hour  23 :\n",
            "MAE-E1D1 :  595079.5971223022, MAE-E2D2 :  1309168.5755395684\n",
            "hour  24 :\n",
            "MAE-E1D1 :  598570.0143884892, MAE-E2D2 :  1317408.8057553957\n",
            "hour  25 :\n",
            "MAE-E1D1 :  603024.5755395683, MAE-E2D2 :  1323326.618705036\n",
            "hour  26 :\n",
            "MAE-E1D1 :  607574.9064748201, MAE-E2D2 :  1326481.381294964\n",
            "hour  27 :\n",
            "MAE-E1D1 :  611521.6115107914, MAE-E2D2 :  1328083.107913669\n",
            "hour  28 :\n",
            "MAE-E1D1 :  614791.4820143885, MAE-E2D2 :  1329536.5755395684\n",
            "hour  29 :\n",
            "MAE-E1D1 :  617730.7625899281, MAE-E2D2 :  1331594.1294964028\n",
            "hour  30 :\n",
            "MAE-E1D1 :  620892.4316546762, MAE-E2D2 :  1334327.597122302\n",
            "hour  31 :\n",
            "MAE-E1D1 :  624736.9208633094, MAE-E2D2 :  1337431.251798561\n",
            "hour  32 :\n",
            "MAE-E1D1 :  629403.2805755396, MAE-E2D2 :  1340868.2589928058\n",
            "hour  33 :\n",
            "MAE-E1D1 :  634640.1151079136, MAE-E2D2 :  1344637.6978417267\n",
            "hour  34 :\n",
            "MAE-E1D1 :  639879.7122302158, MAE-E2D2 :  1348472.0575539568\n",
            "hour  35 :\n",
            "MAE-E1D1 :  644599.4820143885, MAE-E2D2 :  1351993.7841726618\n",
            "hour  36 :\n",
            "MAE-E1D1 :  648473.8992805756, MAE-E2D2 :  1354905.4388489209\n",
            "hour  37 :\n",
            "MAE-E1D1 :  651346.8776978417, MAE-E2D2 :  1356966.6762589929\n",
            "hour  38 :\n",
            "MAE-E1D1 :  653104.690647482, MAE-E2D2 :  1357787.0503597122\n",
            "hour  39 :\n",
            "MAE-E1D1 :  653613.3525179856, MAE-E2D2 :  1357553.4964028776\n",
            "hour  40 :\n",
            "MAE-E1D1 :  652685.4676258992, MAE-E2D2 :  1356810.2446043165\n",
            "hour  41 :\n",
            "MAE-E1D1 :  650175.0791366906, MAE-E2D2 :  1355777.8417266188\n",
            "hour  42 :\n",
            "MAE-E1D1 :  646148.4892086331, MAE-E2D2 :  1354868.3741007193\n",
            "hour  43 :\n",
            "MAE-E1D1 :  640942.2733812949, MAE-E2D2 :  1354659.2230215827\n",
            "hour  44 :\n",
            "MAE-E1D1 :  635370.0143884892, MAE-E2D2 :  1355762.762589928\n",
            "hour  45 :\n",
            "MAE-E1D1 :  630436.834532374, MAE-E2D2 :  1358805.6402877697\n",
            "hour  46 :\n",
            "MAE-E1D1 :  627033.6690647482, MAE-E2D2 :  1363618.8776978417\n",
            "hour  47 :\n",
            "MAE-E1D1 :  625502.1582733813, MAE-E2D2 :  1369038.964028777\n",
            "hour  48 :\n",
            "MAE-E1D1 :  625730.8776978417, MAE-E2D2 :  1373764.2589928058\n",
            "hour  49 :\n"
          ],
          "name": "stdout"
        },
        {
          "output_type": "error",
          "ename": "IndexError",
          "evalue": "ignored",
          "traceback": [
            "\u001b[0;31m---------------------------------------------------------------------------\u001b[0m",
            "\u001b[0;31mIndexError\u001b[0m                                Traceback (most recent call last)",
            "\u001b[0;32m<ipython-input-14-03acbbe2c35f>\u001b[0m in \u001b[0;36m<module>\u001b[0;34m()\u001b[0m\n\u001b[1;32m      5\u001b[0m   \u001b[0;32mfor\u001b[0m \u001b[0mj\u001b[0m \u001b[0;32min\u001b[0m \u001b[0mrange\u001b[0m\u001b[0;34m(\u001b[0m\u001b[0;36m1\u001b[0m\u001b[0;34m,\u001b[0m\u001b[0;36m72\u001b[0m\u001b[0;34m)\u001b[0m\u001b[0;34m:\u001b[0m\u001b[0;34m\u001b[0m\u001b[0;34m\u001b[0m\u001b[0m\n\u001b[1;32m      6\u001b[0m     \u001b[0mprint\u001b[0m\u001b[0;34m(\u001b[0m\u001b[0;34m\"hour \"\u001b[0m\u001b[0;34m,\u001b[0m\u001b[0mj\u001b[0m\u001b[0;34m,\u001b[0m\u001b[0;34m\":\"\u001b[0m\u001b[0;34m)\u001b[0m\u001b[0;34m\u001b[0m\u001b[0;34m\u001b[0m\u001b[0m\n\u001b[0;32m----> 7\u001b[0;31m     \u001b[0mprint\u001b[0m\u001b[0;34m(\u001b[0m\u001b[0;34m\"MAE-E1D1 : \"\u001b[0m\u001b[0;34m,\u001b[0m\u001b[0mmean_absolute_error\u001b[0m\u001b[0;34m(\u001b[0m\u001b[0my_test\u001b[0m\u001b[0;34m[\u001b[0m\u001b[0;34m:\u001b[0m\u001b[0;34m,\u001b[0m\u001b[0mj\u001b[0m\u001b[0;34m-\u001b[0m\u001b[0;36m1\u001b[0m\u001b[0;34m,\u001b[0m\u001b[0mindex\u001b[0m\u001b[0;34m]\u001b[0m\u001b[0;34m,\u001b[0m\u001b[0mpred1_e1d1\u001b[0m\u001b[0;34m[\u001b[0m\u001b[0;34m:\u001b[0m\u001b[0;34m,\u001b[0m\u001b[0mj\u001b[0m\u001b[0;34m-\u001b[0m\u001b[0;36m1\u001b[0m\u001b[0;34m,\u001b[0m\u001b[0mindex\u001b[0m\u001b[0;34m]\u001b[0m\u001b[0;34m)\u001b[0m\u001b[0;34m,\u001b[0m\u001b[0mend\u001b[0m\u001b[0;34m=\u001b[0m\u001b[0;34m\", \"\u001b[0m\u001b[0;34m)\u001b[0m\u001b[0;34m\u001b[0m\u001b[0;34m\u001b[0m\u001b[0m\n\u001b[0m\u001b[1;32m      8\u001b[0m     \u001b[0mprint\u001b[0m\u001b[0;34m(\u001b[0m\u001b[0;34m\"MAE-E2D2 : \"\u001b[0m\u001b[0;34m,\u001b[0m\u001b[0mmean_absolute_error\u001b[0m\u001b[0;34m(\u001b[0m\u001b[0my_test\u001b[0m\u001b[0;34m[\u001b[0m\u001b[0;34m:\u001b[0m\u001b[0;34m,\u001b[0m\u001b[0mj\u001b[0m\u001b[0;34m-\u001b[0m\u001b[0;36m1\u001b[0m\u001b[0;34m,\u001b[0m\u001b[0mindex\u001b[0m\u001b[0;34m]\u001b[0m\u001b[0;34m,\u001b[0m\u001b[0mpred1_e2d2\u001b[0m\u001b[0;34m[\u001b[0m\u001b[0;34m:\u001b[0m\u001b[0;34m,\u001b[0m\u001b[0mj\u001b[0m\u001b[0;34m-\u001b[0m\u001b[0;36m1\u001b[0m\u001b[0;34m,\u001b[0m\u001b[0mindex\u001b[0m\u001b[0;34m]\u001b[0m\u001b[0;34m)\u001b[0m\u001b[0;34m)\u001b[0m\u001b[0;34m\u001b[0m\u001b[0;34m\u001b[0m\u001b[0m\n\u001b[1;32m      9\u001b[0m   \u001b[0mprint\u001b[0m\u001b[0;34m(\u001b[0m\u001b[0;34m)\u001b[0m\u001b[0;34m\u001b[0m\u001b[0;34m\u001b[0m\u001b[0m\n",
            "\u001b[0;31mIndexError\u001b[0m: index 48 is out of bounds for axis 1 with size 48"
          ]
        }
      ]
    }
  ]
}